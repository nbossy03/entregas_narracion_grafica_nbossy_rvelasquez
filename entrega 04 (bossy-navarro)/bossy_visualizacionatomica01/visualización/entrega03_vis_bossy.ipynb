{
  "nbformat": 4,
  "nbformat_minor": 0,
  "metadata": {
    "colab": {
      "provenance": []
    },
    "kernelspec": {
      "name": "python3",
      "display_name": "Python 3"
    },
    "language_info": {
      "name": "python"
    }
  },
  "cells": [
    {
      "cell_type": "code",
      "execution_count": null,
      "metadata": {
        "id": "1DQhP6BTUGKI"
      },
      "outputs": [],
      "source": [
        "import pandas as pd\n",
        "\n",
        "df = pd.read_excel(\"dragrace-database-CLEAN-FINAL-.xlsx\")\n",
        "\n",
        "winners = df[df[\"finale\"] == \"WINNER\"]\n",
        "# Contar cuántas veces aparece cada categoría como \"WIN\" o \"HIGH\"\n",
        "categorias = [\"acting\", \"rusical\", \"snatch-game\", \"design\", \"girl-groups\", \"improv\", \"improv-2\", \"runway\"]\n",
        "\n",
        "# tabla gráfica\n",
        "summary = []\n",
        "for col in categorias:\n",
        "    total = winners[col].count()\n",
        "    high_win = winners[winners[col].isin([\"WIN\", \"HIGH\"])][col].count()\n",
        "    summary.append({\"challenge\": col, \"rate\": high_win / total * 100})\n",
        "\n",
        "summary_df = pd.DataFrame(summary)\n"
      ]
    },
    {
      "cell_type": "code",
      "source": [
        "import altair as alt\n",
        "\n",
        "chart = alt.Chart(summary_df).mark_bar().encode(\n",
        "    x=alt.X(\"challenge:N\", title=\"Tipo de desafío\"),\n",
        "    y=alt.Y(\"rate:Q\", title=\"% de veces con resultado WIN o HIGH\"),\n",
        "    tooltip=[\"challenge\", \"rate\"]\n",
        ").properties(\n",
        "    title=\"Desempeño destacado de las ganadoras de RuPaul's Drag Race por tipo de desafío\",\n",
        "    width=600,\n",
        "    height=400\n",
        ")\n",
        "\n",
        "chart"
      ],
      "metadata": {
        "colab": {
          "base_uri": "https://localhost:8080/",
          "height": 531
        },
        "id": "EfNpwhydUqKt",
        "outputId": "d06d9a47-5cea-4a05-d45f-72a60ac6b800"
      },
      "execution_count": null,
      "outputs": [
        {
          "output_type": "execute_result",
          "data": {
            "text/html": [
              "\n",
              "<style>\n",
              "  #altair-viz-5e2f0b3364a1461c938228b527c97485.vega-embed {\n",
              "    width: 100%;\n",
              "    display: flex;\n",
              "  }\n",
              "\n",
              "  #altair-viz-5e2f0b3364a1461c938228b527c97485.vega-embed details,\n",
              "  #altair-viz-5e2f0b3364a1461c938228b527c97485.vega-embed details summary {\n",
              "    position: relative;\n",
              "  }\n",
              "</style>\n",
              "<div id=\"altair-viz-5e2f0b3364a1461c938228b527c97485\"></div>\n",
              "<script type=\"text/javascript\">\n",
              "  var VEGA_DEBUG = (typeof VEGA_DEBUG == \"undefined\") ? {} : VEGA_DEBUG;\n",
              "  (function(spec, embedOpt){\n",
              "    let outputDiv = document.currentScript.previousElementSibling;\n",
              "    if (outputDiv.id !== \"altair-viz-5e2f0b3364a1461c938228b527c97485\") {\n",
              "      outputDiv = document.getElementById(\"altair-viz-5e2f0b3364a1461c938228b527c97485\");\n",
              "    }\n",
              "\n",
              "    const paths = {\n",
              "      \"vega\": \"https://cdn.jsdelivr.net/npm/vega@5?noext\",\n",
              "      \"vega-lib\": \"https://cdn.jsdelivr.net/npm/vega-lib?noext\",\n",
              "      \"vega-lite\": \"https://cdn.jsdelivr.net/npm/vega-lite@5.20.1?noext\",\n",
              "      \"vega-embed\": \"https://cdn.jsdelivr.net/npm/vega-embed@6?noext\",\n",
              "    };\n",
              "\n",
              "    function maybeLoadScript(lib, version) {\n",
              "      var key = `${lib.replace(\"-\", \"\")}_version`;\n",
              "      return (VEGA_DEBUG[key] == version) ?\n",
              "        Promise.resolve(paths[lib]) :\n",
              "        new Promise(function(resolve, reject) {\n",
              "          var s = document.createElement('script');\n",
              "          document.getElementsByTagName(\"head\")[0].appendChild(s);\n",
              "          s.async = true;\n",
              "          s.onload = () => {\n",
              "            VEGA_DEBUG[key] = version;\n",
              "            return resolve(paths[lib]);\n",
              "          };\n",
              "          s.onerror = () => reject(`Error loading script: ${paths[lib]}`);\n",
              "          s.src = paths[lib];\n",
              "        });\n",
              "    }\n",
              "\n",
              "    function showError(err) {\n",
              "      outputDiv.innerHTML = `<div class=\"error\" style=\"color:red;\">${err}</div>`;\n",
              "      throw err;\n",
              "    }\n",
              "\n",
              "    function displayChart(vegaEmbed) {\n",
              "      vegaEmbed(outputDiv, spec, embedOpt)\n",
              "        .catch(err => showError(`Javascript Error: ${err.message}<br>This usually means there's a typo in your chart specification. See the javascript console for the full traceback.`));\n",
              "    }\n",
              "\n",
              "    if(typeof define === \"function\" && define.amd) {\n",
              "      requirejs.config({paths});\n",
              "      let deps = [\"vega-embed\"];\n",
              "      require(deps, displayChart, err => showError(`Error loading script: ${err.message}`));\n",
              "    } else {\n",
              "      maybeLoadScript(\"vega\", \"5\")\n",
              "        .then(() => maybeLoadScript(\"vega-lite\", \"5.20.1\"))\n",
              "        .then(() => maybeLoadScript(\"vega-embed\", \"6\"))\n",
              "        .catch(showError)\n",
              "        .then(() => displayChart(vegaEmbed));\n",
              "    }\n",
              "  })({\"config\": {\"view\": {\"continuousWidth\": 300, \"continuousHeight\": 300}}, \"data\": {\"name\": \"data-8684f195079b73059600243eb6fc5792\"}, \"mark\": {\"type\": \"bar\"}, \"encoding\": {\"tooltip\": [{\"field\": \"challenge\", \"type\": \"nominal\"}, {\"field\": \"rate\", \"type\": \"quantitative\"}], \"x\": {\"field\": \"challenge\", \"title\": \"Tipo de desaf\\u00edo\", \"type\": \"nominal\"}, \"y\": {\"field\": \"rate\", \"title\": \"% de veces con resultado WIN o HIGH\", \"type\": \"quantitative\"}}, \"height\": 400, \"title\": \"Desempe\\u00f1o destacado de las ganadoras de RuPaul's Drag Race por tipo de desaf\\u00edo\", \"width\": 600, \"$schema\": \"https://vega.github.io/schema/vega-lite/v5.20.1.json\", \"datasets\": {\"data-8684f195079b73059600243eb6fc5792\": [{\"challenge\": \"acting\", \"rate\": 26.666666666666668}, {\"challenge\": \"rusical\", \"rate\": 45.45454545454545}, {\"challenge\": \"snatch-game\", \"rate\": 53.333333333333336}, {\"challenge\": \"design\", \"rate\": 38.46153846153847}, {\"challenge\": \"girl-groups\", \"rate\": 33.33333333333333}, {\"challenge\": \"improv\", \"rate\": 50.0}, {\"challenge\": \"improv-2\", \"rate\": 50.0}, {\"challenge\": \"runway\", \"rate\": 100.0}]}}, {\"mode\": \"vega-lite\"});\n",
              "</script>"
            ],
            "text/plain": [
              "alt.Chart(...)"
            ]
          },
          "metadata": {},
          "execution_count": 3
        }
      ]
    },
    {
      "cell_type": "code",
      "source": [
        "chart.save(\"grafico.html\")"
      ],
      "metadata": {
        "id": "2YlfJKkfU4uC"
      },
      "execution_count": null,
      "outputs": []
    },
    {
      "cell_type": "code",
      "source": [
        "df = pd.read_excel(\"dragrace-database-CLEAN-FINAL-.xlsx\")\n",
        "\n",
        "# Filtrar solo ganadoras\n",
        "winners = df[df[\"finale\"] == \"WINNER\"]\n",
        "\n",
        "# Definir columnas de desafíos\n",
        "challenge_cols = [\n",
        "    \"acting\", \"acting-2\",\n",
        "    \"advert\", \"advert-2\",\n",
        "    \"design\", \"design-2\", \"design-3\",\n",
        "    \"improv\", \"improv-2\",\n",
        "    \"snatch-game\", \"stand-up\",\n",
        "    \"rusical\", \"rusical-2\",\n",
        "    \"girl-groups\", \"runway\",\n",
        "    \"singing\", \"singing-2\",\n",
        "    \"main-ball\", \"ball-2\",\n",
        "    \"choreo\", \"makeover\",\n",
        "    \"talent-show\"\n",
        "]\n",
        "\n",
        "# Contar cuántas veces cada tipo de reto fue ganado por las winners\n",
        "win_counts = []\n",
        "\n",
        "for col in challenge_cols:\n",
        "    if col in winners.columns:\n",
        "        win_total = winners[winners[col] == \"WIN\"].shape[0]\n",
        "        win_counts.append({\"challenge\": col, \"win_count\": win_total})\n",
        "\n",
        "win_df = pd.DataFrame(win_counts)\n",
        "\n",
        "# gráfico Altair\n",
        "chart = alt.Chart(win_df).mark_bar().encode(\n",
        "    x=alt.X(\"challenge:N\", title=\"Tipo de desafío\", sort='-y'),\n",
        "    y=alt.Y(\"win_count:Q\", title=\"Veces que fue ganado por ganadoras\"),\n",
        "    tooltip=[\"challenge\", \"win_count\"]\n",
        ").properties(\n",
        "    title=\"Desafíos más ganados por las ganadoras de RuPaul's Drag Race\",\n",
        "    width=700,\n",
        "    height=400\n",
        ").configure_axisX(labelAngle=45)\n",
        "\n",
        "chart\n"
      ],
      "metadata": {
        "colab": {
          "base_uri": "https://localhost:8080/",
          "height": 522
        },
        "id": "E85_MpdRVoVY",
        "outputId": "940b78f5-a976-44b8-b68a-1905bee01a21"
      },
      "execution_count": null,
      "outputs": [
        {
          "output_type": "execute_result",
          "data": {
            "text/html": [
              "\n",
              "<style>\n",
              "  #altair-viz-614a9e734c794a3da88ae9d2c3c361b3.vega-embed {\n",
              "    width: 100%;\n",
              "    display: flex;\n",
              "  }\n",
              "\n",
              "  #altair-viz-614a9e734c794a3da88ae9d2c3c361b3.vega-embed details,\n",
              "  #altair-viz-614a9e734c794a3da88ae9d2c3c361b3.vega-embed details summary {\n",
              "    position: relative;\n",
              "  }\n",
              "</style>\n",
              "<div id=\"altair-viz-614a9e734c794a3da88ae9d2c3c361b3\"></div>\n",
              "<script type=\"text/javascript\">\n",
              "  var VEGA_DEBUG = (typeof VEGA_DEBUG == \"undefined\") ? {} : VEGA_DEBUG;\n",
              "  (function(spec, embedOpt){\n",
              "    let outputDiv = document.currentScript.previousElementSibling;\n",
              "    if (outputDiv.id !== \"altair-viz-614a9e734c794a3da88ae9d2c3c361b3\") {\n",
              "      outputDiv = document.getElementById(\"altair-viz-614a9e734c794a3da88ae9d2c3c361b3\");\n",
              "    }\n",
              "\n",
              "    const paths = {\n",
              "      \"vega\": \"https://cdn.jsdelivr.net/npm/vega@5?noext\",\n",
              "      \"vega-lib\": \"https://cdn.jsdelivr.net/npm/vega-lib?noext\",\n",
              "      \"vega-lite\": \"https://cdn.jsdelivr.net/npm/vega-lite@5.20.1?noext\",\n",
              "      \"vega-embed\": \"https://cdn.jsdelivr.net/npm/vega-embed@6?noext\",\n",
              "    };\n",
              "\n",
              "    function maybeLoadScript(lib, version) {\n",
              "      var key = `${lib.replace(\"-\", \"\")}_version`;\n",
              "      return (VEGA_DEBUG[key] == version) ?\n",
              "        Promise.resolve(paths[lib]) :\n",
              "        new Promise(function(resolve, reject) {\n",
              "          var s = document.createElement('script');\n",
              "          document.getElementsByTagName(\"head\")[0].appendChild(s);\n",
              "          s.async = true;\n",
              "          s.onload = () => {\n",
              "            VEGA_DEBUG[key] = version;\n",
              "            return resolve(paths[lib]);\n",
              "          };\n",
              "          s.onerror = () => reject(`Error loading script: ${paths[lib]}`);\n",
              "          s.src = paths[lib];\n",
              "        });\n",
              "    }\n",
              "\n",
              "    function showError(err) {\n",
              "      outputDiv.innerHTML = `<div class=\"error\" style=\"color:red;\">${err}</div>`;\n",
              "      throw err;\n",
              "    }\n",
              "\n",
              "    function displayChart(vegaEmbed) {\n",
              "      vegaEmbed(outputDiv, spec, embedOpt)\n",
              "        .catch(err => showError(`Javascript Error: ${err.message}<br>This usually means there's a typo in your chart specification. See the javascript console for the full traceback.`));\n",
              "    }\n",
              "\n",
              "    if(typeof define === \"function\" && define.amd) {\n",
              "      requirejs.config({paths});\n",
              "      let deps = [\"vega-embed\"];\n",
              "      require(deps, displayChart, err => showError(`Error loading script: ${err.message}`));\n",
              "    } else {\n",
              "      maybeLoadScript(\"vega\", \"5\")\n",
              "        .then(() => maybeLoadScript(\"vega-lite\", \"5.20.1\"))\n",
              "        .then(() => maybeLoadScript(\"vega-embed\", \"6\"))\n",
              "        .catch(showError)\n",
              "        .then(() => displayChart(vegaEmbed));\n",
              "    }\n",
              "  })({\"config\": {\"view\": {\"continuousWidth\": 300, \"continuousHeight\": 300}, \"axisX\": {\"labelAngle\": 45}}, \"data\": {\"name\": \"data-79e19e7d83b650e4baab521b0cfd38d0\"}, \"mark\": {\"type\": \"bar\"}, \"encoding\": {\"tooltip\": [{\"field\": \"challenge\", \"type\": \"nominal\"}, {\"field\": \"win_count\", \"type\": \"quantitative\"}], \"x\": {\"field\": \"challenge\", \"sort\": \"-y\", \"title\": \"Tipo de desaf\\u00edo\", \"type\": \"nominal\"}, \"y\": {\"field\": \"win_count\", \"title\": \"Veces que fue ganado por ganadoras\", \"type\": \"quantitative\"}}, \"height\": 400, \"title\": \"Desaf\\u00edos m\\u00e1s ganados por las ganadoras de RuPaul's Drag Race\", \"width\": 700, \"$schema\": \"https://vega.github.io/schema/vega-lite/v5.20.1.json\", \"datasets\": {\"data-79e19e7d83b650e4baab521b0cfd38d0\": [{\"challenge\": \"acting\", \"win_count\": 4}, {\"challenge\": \"acting-2\", \"win_count\": 1}, {\"challenge\": \"advert\", \"win_count\": 5}, {\"challenge\": \"advert-2\", \"win_count\": 0}, {\"challenge\": \"design\", \"win_count\": 2}, {\"challenge\": \"design-2\", \"win_count\": 2}, {\"challenge\": \"design-3\", \"win_count\": 1}, {\"challenge\": \"improv\", \"win_count\": 4}, {\"challenge\": \"improv-2\", \"win_count\": 1}, {\"challenge\": \"snatch-game\", \"win_count\": 3}, {\"challenge\": \"stand-up\", \"win_count\": 0}, {\"challenge\": \"rusical\", \"win_count\": 0}, {\"challenge\": \"rusical-2\", \"win_count\": 0}, {\"challenge\": \"girl-groups\", \"win_count\": 0}, {\"challenge\": \"runway\", \"win_count\": 1}, {\"challenge\": \"singing\", \"win_count\": 1}, {\"challenge\": \"singing-2\", \"win_count\": 0}, {\"challenge\": \"main-ball\", \"win_count\": 5}, {\"challenge\": \"ball-2\", \"win_count\": 0}, {\"challenge\": \"choreo\", \"win_count\": 0}, {\"challenge\": \"makeover\", \"win_count\": 2}, {\"challenge\": \"talent-show\", \"win_count\": 0}]}}, {\"mode\": \"vega-lite\"});\n",
              "</script>"
            ],
            "text/plain": [
              "alt.Chart(...)"
            ]
          },
          "metadata": {},
          "execution_count": 5
        }
      ]
    },
    {
      "cell_type": "code",
      "source": [
        "chart.save(\"grafico.html\")"
      ],
      "metadata": {
        "id": "jYt4uaNDWmYv"
      },
      "execution_count": null,
      "outputs": []
    }
  ]
}